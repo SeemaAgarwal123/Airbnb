{
 "cells": [
  {
   "cell_type": "markdown",
   "metadata": {},
   "source": [
    "## Data Cleaning and Preprocessing"
   ]
  },
  {
   "cell_type": "code",
   "execution_count": 1,
   "metadata": {},
   "outputs": [],
   "source": [
    "import plotly\n",
    "import pandas as pd\n",
    "import numpy as np"
   ]
  },
  {
   "cell_type": "code",
   "execution_count": 2,
   "metadata": {},
   "outputs": [],
   "source": [
    "import warnings\n",
    "warnings.filterwarnings(\"ignore\")"
   ]
  },
  {
   "cell_type": "code",
   "execution_count": 3,
   "metadata": {},
   "outputs": [],
   "source": [
    "train= pd.read_csv(\"airbnbTrain.csv\")"
   ]
  },
  {
   "cell_type": "code",
   "execution_count": 4,
   "metadata": {},
   "outputs": [
    {
     "data": {
      "text/html": [
       "<div>\n",
       "<style scoped>\n",
       "    .dataframe tbody tr th:only-of-type {\n",
       "        vertical-align: middle;\n",
       "    }\n",
       "\n",
       "    .dataframe tbody tr th {\n",
       "        vertical-align: top;\n",
       "    }\n",
       "\n",
       "    .dataframe thead th {\n",
       "        text-align: right;\n",
       "    }\n",
       "</style>\n",
       "<table border=\"1\" class=\"dataframe\">\n",
       "  <thead>\n",
       "    <tr style=\"text-align: right;\">\n",
       "      <th></th>\n",
       "      <th>id</th>\n",
       "      <th>high_booking_rate</th>\n",
       "      <th>access</th>\n",
       "      <th>accommodates</th>\n",
       "      <th>amenities</th>\n",
       "      <th>availability_30</th>\n",
       "      <th>availability_365</th>\n",
       "      <th>availability_60</th>\n",
       "      <th>availability_90</th>\n",
       "      <th>bathrooms</th>\n",
       "      <th>...</th>\n",
       "      <th>review_scores_value</th>\n",
       "      <th>room_type</th>\n",
       "      <th>security_deposit</th>\n",
       "      <th>space</th>\n",
       "      <th>square_feet</th>\n",
       "      <th>state</th>\n",
       "      <th>transit</th>\n",
       "      <th>weekly_price</th>\n",
       "      <th>zipcode</th>\n",
       "      <th>{randomControl}</th>\n",
       "    </tr>\n",
       "  </thead>\n",
       "  <tbody>\n",
       "    <tr>\n",
       "      <th>0</th>\n",
       "      <td>1060760</td>\n",
       "      <td>0</td>\n",
       "      <td>NaN</td>\n",
       "      <td>4</td>\n",
       "      <td>{TV,\"Cable TV\",Wifi,\"Air conditioning\",Pool,Ki...</td>\n",
       "      <td>19</td>\n",
       "      <td>67</td>\n",
       "      <td>29</td>\n",
       "      <td>29</td>\n",
       "      <td>2.0</td>\n",
       "      <td>...</td>\n",
       "      <td>10.0</td>\n",
       "      <td>Entire home/apt</td>\n",
       "      <td>NaN</td>\n",
       "      <td>The apartment is located at the Beachwalk Reso...</td>\n",
       "      <td>NaN</td>\n",
       "      <td>FL</td>\n",
       "      <td>NaN</td>\n",
       "      <td>NaN</td>\n",
       "      <td>33009</td>\n",
       "      <td>113890</td>\n",
       "    </tr>\n",
       "    <tr>\n",
       "      <th>1</th>\n",
       "      <td>1040685</td>\n",
       "      <td>0</td>\n",
       "      <td>NaN</td>\n",
       "      <td>4</td>\n",
       "      <td>{TV,\"Cable TV\",Wifi,\"Air conditioning\",Kitchen...</td>\n",
       "      <td>0</td>\n",
       "      <td>0</td>\n",
       "      <td>0</td>\n",
       "      <td>0</td>\n",
       "      <td>1.0</td>\n",
       "      <td>...</td>\n",
       "      <td>9.0</td>\n",
       "      <td>Entire home/apt</td>\n",
       "      <td>NaN</td>\n",
       "      <td>You will not find a more adorable apartment! A...</td>\n",
       "      <td>NaN</td>\n",
       "      <td>NY</td>\n",
       "      <td>This apartment is in one of the best locations...</td>\n",
       "      <td>NaN</td>\n",
       "      <td>10019</td>\n",
       "      <td>116337</td>\n",
       "    </tr>\n",
       "    <tr>\n",
       "      <th>2</th>\n",
       "      <td>1001074</td>\n",
       "      <td>0</td>\n",
       "      <td>NaN</td>\n",
       "      <td>4</td>\n",
       "      <td>{TV,Wifi,\"Air conditioning\",Kitchen,\"Free park...</td>\n",
       "      <td>0</td>\n",
       "      <td>0</td>\n",
       "      <td>0</td>\n",
       "      <td>0</td>\n",
       "      <td>1.0</td>\n",
       "      <td>...</td>\n",
       "      <td>NaN</td>\n",
       "      <td>Entire home/apt</td>\n",
       "      <td>$200.00</td>\n",
       "      <td>NaN</td>\n",
       "      <td>NaN</td>\n",
       "      <td>CA</td>\n",
       "      <td>NaN</td>\n",
       "      <td>NaN</td>\n",
       "      <td>90066</td>\n",
       "      <td>112297</td>\n",
       "    </tr>\n",
       "    <tr>\n",
       "      <th>3</th>\n",
       "      <td>1197330</td>\n",
       "      <td>0</td>\n",
       "      <td>NaN</td>\n",
       "      <td>2</td>\n",
       "      <td>{Wifi,\"Air conditioning\",\"Free parking on prem...</td>\n",
       "      <td>24</td>\n",
       "      <td>173</td>\n",
       "      <td>54</td>\n",
       "      <td>84</td>\n",
       "      <td>2.5</td>\n",
       "      <td>...</td>\n",
       "      <td>NaN</td>\n",
       "      <td>Private room</td>\n",
       "      <td>NaN</td>\n",
       "      <td>NaN</td>\n",
       "      <td>NaN</td>\n",
       "      <td>MN</td>\n",
       "      <td>House is 24 mins from downtown, it’s a quiet s...</td>\n",
       "      <td>NaN</td>\n",
       "      <td>55014</td>\n",
       "      <td>125404</td>\n",
       "    </tr>\n",
       "    <tr>\n",
       "      <th>4</th>\n",
       "      <td>1031737</td>\n",
       "      <td>0</td>\n",
       "      <td>Access the entire house. Garage will be locked.</td>\n",
       "      <td>2</td>\n",
       "      <td>{TV,Wifi,Kitchen,Heating,Washer,Dryer,\"Smoke d...</td>\n",
       "      <td>4</td>\n",
       "      <td>64</td>\n",
       "      <td>34</td>\n",
       "      <td>64</td>\n",
       "      <td>1.0</td>\n",
       "      <td>...</td>\n",
       "      <td>10.0</td>\n",
       "      <td>Private room</td>\n",
       "      <td>NaN</td>\n",
       "      <td>Once you get here - you'll see. I won't be sur...</td>\n",
       "      <td>NaN</td>\n",
       "      <td>CA</td>\n",
       "      <td>Just outside the front door you will find publ...</td>\n",
       "      <td>NaN</td>\n",
       "      <td>90803</td>\n",
       "      <td>112921</td>\n",
       "    </tr>\n",
       "    <tr>\n",
       "      <th>...</th>\n",
       "      <td>...</td>\n",
       "      <td>...</td>\n",
       "      <td>...</td>\n",
       "      <td>...</td>\n",
       "      <td>...</td>\n",
       "      <td>...</td>\n",
       "      <td>...</td>\n",
       "      <td>...</td>\n",
       "      <td>...</td>\n",
       "      <td>...</td>\n",
       "      <td>...</td>\n",
       "      <td>...</td>\n",
       "      <td>...</td>\n",
       "      <td>...</td>\n",
       "      <td>...</td>\n",
       "      <td>...</td>\n",
       "      <td>...</td>\n",
       "      <td>...</td>\n",
       "      <td>...</td>\n",
       "      <td>...</td>\n",
       "      <td>...</td>\n",
       "    </tr>\n",
       "    <tr>\n",
       "      <th>95</th>\n",
       "      <td>1064839</td>\n",
       "      <td>0</td>\n",
       "      <td>We make checking in extremely easy. When you a...</td>\n",
       "      <td>2</td>\n",
       "      <td>{TV,Wifi,Kitchen,\"Free parking on premises\",Wa...</td>\n",
       "      <td>29</td>\n",
       "      <td>364</td>\n",
       "      <td>59</td>\n",
       "      <td>89</td>\n",
       "      <td>1.0</td>\n",
       "      <td>...</td>\n",
       "      <td>10.0</td>\n",
       "      <td>Private room</td>\n",
       "      <td>$100.00</td>\n",
       "      <td>Although SF is very crowded, our home is relat...</td>\n",
       "      <td>NaN</td>\n",
       "      <td>CA</td>\n",
       "      <td>Parking - We're very fortunate to have street ...</td>\n",
       "      <td>NaN</td>\n",
       "      <td>94134</td>\n",
       "      <td>122236</td>\n",
       "    </tr>\n",
       "    <tr>\n",
       "      <th>96</th>\n",
       "      <td>1011515</td>\n",
       "      <td>1</td>\n",
       "      <td>This unit is a Mother-In-Law Suite in the base...</td>\n",
       "      <td>4</td>\n",
       "      <td>{TV,Internet,Wifi,Kitchen,\"Free street parking...</td>\n",
       "      <td>0</td>\n",
       "      <td>0</td>\n",
       "      <td>0</td>\n",
       "      <td>0</td>\n",
       "      <td>1.0</td>\n",
       "      <td>...</td>\n",
       "      <td>9.0</td>\n",
       "      <td>Entire home/apt</td>\n",
       "      <td>NaN</td>\n",
       "      <td>Enjoy your own private Mother-in-Law unit with...</td>\n",
       "      <td>NaN</td>\n",
       "      <td>WA</td>\n",
       "      <td>The new metrolink to UW makes it easy to take ...</td>\n",
       "      <td>NaN</td>\n",
       "      <td>98103</td>\n",
       "      <td>124910</td>\n",
       "    </tr>\n",
       "    <tr>\n",
       "      <th>97</th>\n",
       "      <td>1145033</td>\n",
       "      <td>1</td>\n",
       "      <td>The whole boat is yours, currently moorings on...</td>\n",
       "      <td>4</td>\n",
       "      <td>{TV,\"Cable TV\",Internet,Wifi,\"Air conditioning...</td>\n",
       "      <td>25</td>\n",
       "      <td>85</td>\n",
       "      <td>55</td>\n",
       "      <td>85</td>\n",
       "      <td>1.0</td>\n",
       "      <td>...</td>\n",
       "      <td>9.0</td>\n",
       "      <td>Entire home/apt</td>\n",
       "      <td>$0.00</td>\n",
       "      <td>Fully insulated and heated for winter! A/C for...</td>\n",
       "      <td>350.0</td>\n",
       "      <td>NY</td>\n",
       "      <td>We have a free car service to the subway and i...</td>\n",
       "      <td>$595.00</td>\n",
       "      <td>11235</td>\n",
       "      <td>116037</td>\n",
       "    </tr>\n",
       "    <tr>\n",
       "      <th>98</th>\n",
       "      <td>1009762</td>\n",
       "      <td>0</td>\n",
       "      <td>Elegant hotel like atmosphere, intimate lobby,...</td>\n",
       "      <td>4</td>\n",
       "      <td>{TV,\"Cable TV\",Internet,Wifi,\"Air conditioning...</td>\n",
       "      <td>0</td>\n",
       "      <td>0</td>\n",
       "      <td>0</td>\n",
       "      <td>0</td>\n",
       "      <td>1.0</td>\n",
       "      <td>...</td>\n",
       "      <td>9.0</td>\n",
       "      <td>Private room</td>\n",
       "      <td>NaN</td>\n",
       "      <td>Relax in the comfort of the newly renovated me...</td>\n",
       "      <td>NaN</td>\n",
       "      <td>NY</td>\n",
       "      <td>Easy access to subway.</td>\n",
       "      <td>NaN</td>\n",
       "      <td>10019</td>\n",
       "      <td>116065</td>\n",
       "    </tr>\n",
       "    <tr>\n",
       "      <th>99</th>\n",
       "      <td>1119529</td>\n",
       "      <td>0</td>\n",
       "      <td>NaN</td>\n",
       "      <td>5</td>\n",
       "      <td>{TV,Wifi,\"Air conditioning\",Pool,Kitchen,\"Free...</td>\n",
       "      <td>3</td>\n",
       "      <td>34</td>\n",
       "      <td>9</td>\n",
       "      <td>34</td>\n",
       "      <td>2.0</td>\n",
       "      <td>...</td>\n",
       "      <td>NaN</td>\n",
       "      <td>Entire home/apt</td>\n",
       "      <td>$0.00</td>\n",
       "      <td>NaN</td>\n",
       "      <td>NaN</td>\n",
       "      <td>CA</td>\n",
       "      <td>Across the street from public transit!</td>\n",
       "      <td>NaN</td>\n",
       "      <td>95035</td>\n",
       "      <td>123390</td>\n",
       "    </tr>\n",
       "  </tbody>\n",
       "</table>\n",
       "<p>100 rows × 66 columns</p>\n",
       "</div>"
      ],
      "text/plain": [
       "         id  high_booking_rate  \\\n",
       "0   1060760                  0   \n",
       "1   1040685                  0   \n",
       "2   1001074                  0   \n",
       "3   1197330                  0   \n",
       "4   1031737                  0   \n",
       "..      ...                ...   \n",
       "95  1064839                  0   \n",
       "96  1011515                  1   \n",
       "97  1145033                  1   \n",
       "98  1009762                  0   \n",
       "99  1119529                  0   \n",
       "\n",
       "                                               access  accommodates  \\\n",
       "0                                                 NaN             4   \n",
       "1                                                 NaN             4   \n",
       "2                                                 NaN             4   \n",
       "3                                                 NaN             2   \n",
       "4     Access the entire house. Garage will be locked.             2   \n",
       "..                                                ...           ...   \n",
       "95  We make checking in extremely easy. When you a...             2   \n",
       "96  This unit is a Mother-In-Law Suite in the base...             4   \n",
       "97  The whole boat is yours, currently moorings on...             4   \n",
       "98  Elegant hotel like atmosphere, intimate lobby,...             4   \n",
       "99                                                NaN             5   \n",
       "\n",
       "                                            amenities  availability_30  \\\n",
       "0   {TV,\"Cable TV\",Wifi,\"Air conditioning\",Pool,Ki...               19   \n",
       "1   {TV,\"Cable TV\",Wifi,\"Air conditioning\",Kitchen...                0   \n",
       "2   {TV,Wifi,\"Air conditioning\",Kitchen,\"Free park...                0   \n",
       "3   {Wifi,\"Air conditioning\",\"Free parking on prem...               24   \n",
       "4   {TV,Wifi,Kitchen,Heating,Washer,Dryer,\"Smoke d...                4   \n",
       "..                                                ...              ...   \n",
       "95  {TV,Wifi,Kitchen,\"Free parking on premises\",Wa...               29   \n",
       "96  {TV,Internet,Wifi,Kitchen,\"Free street parking...                0   \n",
       "97  {TV,\"Cable TV\",Internet,Wifi,\"Air conditioning...               25   \n",
       "98  {TV,\"Cable TV\",Internet,Wifi,\"Air conditioning...                0   \n",
       "99  {TV,Wifi,\"Air conditioning\",Pool,Kitchen,\"Free...                3   \n",
       "\n",
       "    availability_365  availability_60  availability_90  bathrooms  ...  \\\n",
       "0                 67               29               29        2.0  ...   \n",
       "1                  0                0                0        1.0  ...   \n",
       "2                  0                0                0        1.0  ...   \n",
       "3                173               54               84        2.5  ...   \n",
       "4                 64               34               64        1.0  ...   \n",
       "..               ...              ...              ...        ...  ...   \n",
       "95               364               59               89        1.0  ...   \n",
       "96                 0                0                0        1.0  ...   \n",
       "97                85               55               85        1.0  ...   \n",
       "98                 0                0                0        1.0  ...   \n",
       "99                34                9               34        2.0  ...   \n",
       "\n",
       "   review_scores_value        room_type  security_deposit  \\\n",
       "0                 10.0  Entire home/apt               NaN   \n",
       "1                  9.0  Entire home/apt               NaN   \n",
       "2                  NaN  Entire home/apt           $200.00   \n",
       "3                  NaN     Private room               NaN   \n",
       "4                 10.0     Private room               NaN   \n",
       "..                 ...              ...               ...   \n",
       "95                10.0     Private room           $100.00   \n",
       "96                 9.0  Entire home/apt               NaN   \n",
       "97                 9.0  Entire home/apt             $0.00   \n",
       "98                 9.0     Private room               NaN   \n",
       "99                 NaN  Entire home/apt             $0.00   \n",
       "\n",
       "                                                space square_feet state  \\\n",
       "0   The apartment is located at the Beachwalk Reso...         NaN    FL   \n",
       "1   You will not find a more adorable apartment! A...         NaN    NY   \n",
       "2                                                 NaN         NaN    CA   \n",
       "3                                                 NaN         NaN    MN   \n",
       "4   Once you get here - you'll see. I won't be sur...         NaN    CA   \n",
       "..                                                ...         ...   ...   \n",
       "95  Although SF is very crowded, our home is relat...         NaN    CA   \n",
       "96  Enjoy your own private Mother-in-Law unit with...         NaN    WA   \n",
       "97  Fully insulated and heated for winter! A/C for...       350.0    NY   \n",
       "98  Relax in the comfort of the newly renovated me...         NaN    NY   \n",
       "99                                                NaN         NaN    CA   \n",
       "\n",
       "                                              transit weekly_price  zipcode  \\\n",
       "0                                                 NaN          NaN    33009   \n",
       "1   This apartment is in one of the best locations...          NaN    10019   \n",
       "2                                                 NaN          NaN    90066   \n",
       "3   House is 24 mins from downtown, it’s a quiet s...          NaN    55014   \n",
       "4   Just outside the front door you will find publ...          NaN    90803   \n",
       "..                                                ...          ...      ...   \n",
       "95  Parking - We're very fortunate to have street ...          NaN    94134   \n",
       "96  The new metrolink to UW makes it easy to take ...          NaN    98103   \n",
       "97  We have a free car service to the subway and i...      $595.00    11235   \n",
       "98                             Easy access to subway.          NaN    10019   \n",
       "99             Across the street from public transit!          NaN    95035   \n",
       "\n",
       "   {randomControl}  \n",
       "0           113890  \n",
       "1           116337  \n",
       "2           112297  \n",
       "3           125404  \n",
       "4           112921  \n",
       "..             ...  \n",
       "95          122236  \n",
       "96          124910  \n",
       "97          116037  \n",
       "98          116065  \n",
       "99          123390  \n",
       "\n",
       "[100 rows x 66 columns]"
      ]
     },
     "execution_count": 4,
     "metadata": {},
     "output_type": "execute_result"
    }
   ],
   "source": [
    "train.head(100)"
   ]
  },
  {
   "cell_type": "code",
   "execution_count": 5,
   "metadata": {},
   "outputs": [
    {
     "data": {
      "text/plain": [
       "dtype('int64')"
      ]
     },
     "execution_count": 5,
     "metadata": {},
     "output_type": "execute_result"
    }
   ],
   "source": [
    "train['{randomControl}'].dtypes"
   ]
  },
  {
   "cell_type": "code",
   "execution_count": 6,
   "metadata": {},
   "outputs": [
    {
     "data": {
      "text/html": [
       "<div>\n",
       "<style scoped>\n",
       "    .dataframe tbody tr th:only-of-type {\n",
       "        vertical-align: middle;\n",
       "    }\n",
       "\n",
       "    .dataframe tbody tr th {\n",
       "        vertical-align: top;\n",
       "    }\n",
       "\n",
       "    .dataframe thead th {\n",
       "        text-align: right;\n",
       "    }\n",
       "</style>\n",
       "<table border=\"1\" class=\"dataframe\">\n",
       "  <thead>\n",
       "    <tr style=\"text-align: right;\">\n",
       "      <th></th>\n",
       "      <th>id</th>\n",
       "      <th>high_booking_rate</th>\n",
       "      <th>access</th>\n",
       "      <th>accommodates</th>\n",
       "      <th>amenities</th>\n",
       "      <th>availability_30</th>\n",
       "      <th>availability_365</th>\n",
       "      <th>availability_60</th>\n",
       "      <th>availability_90</th>\n",
       "      <th>bathrooms</th>\n",
       "      <th>...</th>\n",
       "      <th>room_type</th>\n",
       "      <th>security_deposit</th>\n",
       "      <th>space</th>\n",
       "      <th>square_feet</th>\n",
       "      <th>state</th>\n",
       "      <th>transit</th>\n",
       "      <th>weekly_price</th>\n",
       "      <th>zipcode</th>\n",
       "      <th>{randomControl}</th>\n",
       "      <th>new</th>\n",
       "    </tr>\n",
       "  </thead>\n",
       "  <tbody>\n",
       "    <tr>\n",
       "      <th>20</th>\n",
       "      <td>1181920</td>\n",
       "      <td>0</td>\n",
       "      <td>Kitched and Bathroom are shared</td>\n",
       "      <td>2</td>\n",
       "      <td>{Wifi,\"Air conditioning\",Kitchen,\"Free street ...</td>\n",
       "      <td>1</td>\n",
       "      <td>11</td>\n",
       "      <td>11</td>\n",
       "      <td>11</td>\n",
       "      <td>1.0</td>\n",
       "      <td>...</td>\n",
       "      <td>Shared room</td>\n",
       "      <td>$0.00</td>\n",
       "      <td>The living room has only one bed. And we are o...</td>\n",
       "      <td>NaN</td>\n",
       "      <td>DC</td>\n",
       "      <td>There is a bus stop across the street and mult...</td>\n",
       "      <td>NaN</td>\n",
       "      <td>20007</td>\n",
       "      <td>107687</td>\n",
       "      <td>107.0</td>\n",
       "    </tr>\n",
       "    <tr>\n",
       "      <th>33</th>\n",
       "      <td>1042705</td>\n",
       "      <td>0</td>\n",
       "      <td>NaN</td>\n",
       "      <td>3</td>\n",
       "      <td>{TV,Internet,Wifi,\"Air conditioning\",\"Wheelcha...</td>\n",
       "      <td>0</td>\n",
       "      <td>0</td>\n",
       "      <td>0</td>\n",
       "      <td>0</td>\n",
       "      <td>1.0</td>\n",
       "      <td>...</td>\n",
       "      <td>Entire home/apt</td>\n",
       "      <td>NaN</td>\n",
       "      <td>You will have access to the building laundry r...</td>\n",
       "      <td>NaN</td>\n",
       "      <td>DC</td>\n",
       "      <td>NaN</td>\n",
       "      <td>NaN</td>\n",
       "      <td>20009</td>\n",
       "      <td>107189</td>\n",
       "      <td>107.0</td>\n",
       "    </tr>\n",
       "    <tr>\n",
       "      <th>70</th>\n",
       "      <td>1023185</td>\n",
       "      <td>0</td>\n",
       "      <td>There are front and rear entrances into the ap...</td>\n",
       "      <td>2</td>\n",
       "      <td>{Wifi,\"Air conditioning\",Kitchen,Breakfast,\"In...</td>\n",
       "      <td>19</td>\n",
       "      <td>159</td>\n",
       "      <td>39</td>\n",
       "      <td>69</td>\n",
       "      <td>1.0</td>\n",
       "      <td>...</td>\n",
       "      <td>Private room</td>\n",
       "      <td>NaN</td>\n",
       "      <td>Guests are welcome use any part of the apartme...</td>\n",
       "      <td>NaN</td>\n",
       "      <td>DC</td>\n",
       "      <td>The neighborhood is very well situated - its w...</td>\n",
       "      <td>NaN</td>\n",
       "      <td>20009</td>\n",
       "      <td>107774</td>\n",
       "      <td>107.0</td>\n",
       "    </tr>\n",
       "    <tr>\n",
       "      <th>75</th>\n",
       "      <td>1131417</td>\n",
       "      <td>1</td>\n",
       "      <td>Spacious Common rooms ( kitchen, living ,dinin...</td>\n",
       "      <td>1</td>\n",
       "      <td>{Wifi,\"Air conditioning\",Kitchen,Breakfast,Hea...</td>\n",
       "      <td>29</td>\n",
       "      <td>364</td>\n",
       "      <td>59</td>\n",
       "      <td>89</td>\n",
       "      <td>1.0</td>\n",
       "      <td>...</td>\n",
       "      <td>Shared room</td>\n",
       "      <td>$0.00</td>\n",
       "      <td>This listing is for a single occupancy bunk in...</td>\n",
       "      <td>NaN</td>\n",
       "      <td>DC</td>\n",
       "      <td>Our location is the best! We are in the heart ...</td>\n",
       "      <td>NaN</td>\n",
       "      <td>20003</td>\n",
       "      <td>107078</td>\n",
       "      <td>107.0</td>\n",
       "    </tr>\n",
       "    <tr>\n",
       "      <th>146</th>\n",
       "      <td>1145517</td>\n",
       "      <td>1</td>\n",
       "      <td>NaN</td>\n",
       "      <td>1</td>\n",
       "      <td>{Wifi,\"Air conditioning\",Kitchen,\"Free parking...</td>\n",
       "      <td>30</td>\n",
       "      <td>365</td>\n",
       "      <td>60</td>\n",
       "      <td>90</td>\n",
       "      <td>0.0</td>\n",
       "      <td>...</td>\n",
       "      <td>Private room</td>\n",
       "      <td>$0.00</td>\n",
       "      <td>NaN</td>\n",
       "      <td>NaN</td>\n",
       "      <td>DC</td>\n",
       "      <td>NaN</td>\n",
       "      <td>NaN</td>\n",
       "      <td>20011</td>\n",
       "      <td>107820</td>\n",
       "      <td>107.0</td>\n",
       "    </tr>\n",
       "    <tr>\n",
       "      <th>...</th>\n",
       "      <td>...</td>\n",
       "      <td>...</td>\n",
       "      <td>...</td>\n",
       "      <td>...</td>\n",
       "      <td>...</td>\n",
       "      <td>...</td>\n",
       "      <td>...</td>\n",
       "      <td>...</td>\n",
       "      <td>...</td>\n",
       "      <td>...</td>\n",
       "      <td>...</td>\n",
       "      <td>...</td>\n",
       "      <td>...</td>\n",
       "      <td>...</td>\n",
       "      <td>...</td>\n",
       "      <td>...</td>\n",
       "      <td>...</td>\n",
       "      <td>...</td>\n",
       "      <td>...</td>\n",
       "      <td>...</td>\n",
       "      <td>...</td>\n",
       "    </tr>\n",
       "    <tr>\n",
       "      <th>151459</th>\n",
       "      <td>1007509</td>\n",
       "      <td>0</td>\n",
       "      <td>NaN</td>\n",
       "      <td>10</td>\n",
       "      <td>{TV,\"Cable TV\",Internet,Wifi,\"Air conditioning...</td>\n",
       "      <td>30</td>\n",
       "      <td>352</td>\n",
       "      <td>56</td>\n",
       "      <td>86</td>\n",
       "      <td>2.5</td>\n",
       "      <td>...</td>\n",
       "      <td>Entire home/apt</td>\n",
       "      <td>$500.00</td>\n",
       "      <td>NaN</td>\n",
       "      <td>NaN</td>\n",
       "      <td>DC</td>\n",
       "      <td>NaN</td>\n",
       "      <td>NaN</td>\n",
       "      <td>20001</td>\n",
       "      <td>107081</td>\n",
       "      <td>107.0</td>\n",
       "    </tr>\n",
       "    <tr>\n",
       "      <th>151501</th>\n",
       "      <td>1058570</td>\n",
       "      <td>0</td>\n",
       "      <td>NaN</td>\n",
       "      <td>4</td>\n",
       "      <td>{TV,Wifi,\"Air conditioning\",Kitchen,\"Free park...</td>\n",
       "      <td>30</td>\n",
       "      <td>180</td>\n",
       "      <td>60</td>\n",
       "      <td>90</td>\n",
       "      <td>1.0</td>\n",
       "      <td>...</td>\n",
       "      <td>Entire home/apt</td>\n",
       "      <td>$0.00</td>\n",
       "      <td>NaN</td>\n",
       "      <td>NaN</td>\n",
       "      <td>DC</td>\n",
       "      <td>walk to the free DC Streetcar that will take y...</td>\n",
       "      <td>NaN</td>\n",
       "      <td>20002</td>\n",
       "      <td>107481</td>\n",
       "      <td>107.0</td>\n",
       "    </tr>\n",
       "    <tr>\n",
       "      <th>151522</th>\n",
       "      <td>1134608</td>\n",
       "      <td>0</td>\n",
       "      <td>NaN</td>\n",
       "      <td>2</td>\n",
       "      <td>{TV,Wifi,\"Air conditioning\",Kitchen,Breakfast,...</td>\n",
       "      <td>30</td>\n",
       "      <td>365</td>\n",
       "      <td>60</td>\n",
       "      <td>90</td>\n",
       "      <td>1.0</td>\n",
       "      <td>...</td>\n",
       "      <td>Entire home/apt</td>\n",
       "      <td>NaN</td>\n",
       "      <td>There will be fresh coffee every morning.</td>\n",
       "      <td>NaN</td>\n",
       "      <td>DC</td>\n",
       "      <td>The best way to get around the city is by metr...</td>\n",
       "      <td>NaN</td>\n",
       "      <td>20010</td>\n",
       "      <td>107479</td>\n",
       "      <td>107.0</td>\n",
       "    </tr>\n",
       "    <tr>\n",
       "      <th>151523</th>\n",
       "      <td>1167627</td>\n",
       "      <td>0</td>\n",
       "      <td>NaN</td>\n",
       "      <td>4</td>\n",
       "      <td>{TV,Wifi,\"Air conditioning\",Kitchen,Breakfast,...</td>\n",
       "      <td>30</td>\n",
       "      <td>365</td>\n",
       "      <td>60</td>\n",
       "      <td>90</td>\n",
       "      <td>1.0</td>\n",
       "      <td>...</td>\n",
       "      <td>Hotel room</td>\n",
       "      <td>NaN</td>\n",
       "      <td>NaN</td>\n",
       "      <td>NaN</td>\n",
       "      <td>DC</td>\n",
       "      <td>NaN</td>\n",
       "      <td>NaN</td>\n",
       "      <td>20007</td>\n",
       "      <td>107263</td>\n",
       "      <td>107.0</td>\n",
       "    </tr>\n",
       "    <tr>\n",
       "      <th>151532</th>\n",
       "      <td>1093489</td>\n",
       "      <td>0</td>\n",
       "      <td>Guest(s) will enjoy the privacy of their own s...</td>\n",
       "      <td>1</td>\n",
       "      <td>{\"Cable TV\",Wifi,\"Air conditioning\",Kitchen,He...</td>\n",
       "      <td>30</td>\n",
       "      <td>365</td>\n",
       "      <td>60</td>\n",
       "      <td>90</td>\n",
       "      <td>2.0</td>\n",
       "      <td>...</td>\n",
       "      <td>Private room</td>\n",
       "      <td>NaN</td>\n",
       "      <td>Metro Style Living in Washington DC This offer...</td>\n",
       "      <td>NaN</td>\n",
       "      <td>DC</td>\n",
       "      <td>We are just 20 seconds walk from the Pet-worth...</td>\n",
       "      <td>$270.00</td>\n",
       "      <td>20010</td>\n",
       "      <td>107996</td>\n",
       "      <td>107.0</td>\n",
       "    </tr>\n",
       "  </tbody>\n",
       "</table>\n",
       "<p>5492 rows × 67 columns</p>\n",
       "</div>"
      ],
      "text/plain": [
       "             id  high_booking_rate  \\\n",
       "20      1181920                  0   \n",
       "33      1042705                  0   \n",
       "70      1023185                  0   \n",
       "75      1131417                  1   \n",
       "146     1145517                  1   \n",
       "...         ...                ...   \n",
       "151459  1007509                  0   \n",
       "151501  1058570                  0   \n",
       "151522  1134608                  0   \n",
       "151523  1167627                  0   \n",
       "151532  1093489                  0   \n",
       "\n",
       "                                                   access  accommodates  \\\n",
       "20                        Kitched and Bathroom are shared             2   \n",
       "33                                                    NaN             3   \n",
       "70      There are front and rear entrances into the ap...             2   \n",
       "75      Spacious Common rooms ( kitchen, living ,dinin...             1   \n",
       "146                                                   NaN             1   \n",
       "...                                                   ...           ...   \n",
       "151459                                                NaN            10   \n",
       "151501                                                NaN             4   \n",
       "151522                                                NaN             2   \n",
       "151523                                                NaN             4   \n",
       "151532  Guest(s) will enjoy the privacy of their own s...             1   \n",
       "\n",
       "                                                amenities  availability_30  \\\n",
       "20      {Wifi,\"Air conditioning\",Kitchen,\"Free street ...                1   \n",
       "33      {TV,Internet,Wifi,\"Air conditioning\",\"Wheelcha...                0   \n",
       "70      {Wifi,\"Air conditioning\",Kitchen,Breakfast,\"In...               19   \n",
       "75      {Wifi,\"Air conditioning\",Kitchen,Breakfast,Hea...               29   \n",
       "146     {Wifi,\"Air conditioning\",Kitchen,\"Free parking...               30   \n",
       "...                                                   ...              ...   \n",
       "151459  {TV,\"Cable TV\",Internet,Wifi,\"Air conditioning...               30   \n",
       "151501  {TV,Wifi,\"Air conditioning\",Kitchen,\"Free park...               30   \n",
       "151522  {TV,Wifi,\"Air conditioning\",Kitchen,Breakfast,...               30   \n",
       "151523  {TV,Wifi,\"Air conditioning\",Kitchen,Breakfast,...               30   \n",
       "151532  {\"Cable TV\",Wifi,\"Air conditioning\",Kitchen,He...               30   \n",
       "\n",
       "        availability_365  availability_60  availability_90  bathrooms  ...  \\\n",
       "20                    11               11               11        1.0  ...   \n",
       "33                     0                0                0        1.0  ...   \n",
       "70                   159               39               69        1.0  ...   \n",
       "75                   364               59               89        1.0  ...   \n",
       "146                  365               60               90        0.0  ...   \n",
       "...                  ...              ...              ...        ...  ...   \n",
       "151459               352               56               86        2.5  ...   \n",
       "151501               180               60               90        1.0  ...   \n",
       "151522               365               60               90        1.0  ...   \n",
       "151523               365               60               90        1.0  ...   \n",
       "151532               365               60               90        2.0  ...   \n",
       "\n",
       "              room_type  security_deposit  \\\n",
       "20          Shared room             $0.00   \n",
       "33      Entire home/apt               NaN   \n",
       "70         Private room               NaN   \n",
       "75          Shared room             $0.00   \n",
       "146        Private room             $0.00   \n",
       "...                 ...               ...   \n",
       "151459  Entire home/apt           $500.00   \n",
       "151501  Entire home/apt             $0.00   \n",
       "151522  Entire home/apt               NaN   \n",
       "151523       Hotel room               NaN   \n",
       "151532     Private room               NaN   \n",
       "\n",
       "                                                    space square_feet state  \\\n",
       "20      The living room has only one bed. And we are o...         NaN    DC   \n",
       "33      You will have access to the building laundry r...         NaN    DC   \n",
       "70      Guests are welcome use any part of the apartme...         NaN    DC   \n",
       "75      This listing is for a single occupancy bunk in...         NaN    DC   \n",
       "146                                                   NaN         NaN    DC   \n",
       "...                                                   ...         ...   ...   \n",
       "151459                                                NaN         NaN    DC   \n",
       "151501                                                NaN         NaN    DC   \n",
       "151522          There will be fresh coffee every morning.         NaN    DC   \n",
       "151523                                                NaN         NaN    DC   \n",
       "151532  Metro Style Living in Washington DC This offer...         NaN    DC   \n",
       "\n",
       "                                                  transit weekly_price  \\\n",
       "20      There is a bus stop across the street and mult...          NaN   \n",
       "33                                                    NaN          NaN   \n",
       "70      The neighborhood is very well situated - its w...          NaN   \n",
       "75      Our location is the best! We are in the heart ...          NaN   \n",
       "146                                                   NaN          NaN   \n",
       "...                                                   ...          ...   \n",
       "151459                                                NaN          NaN   \n",
       "151501  walk to the free DC Streetcar that will take y...          NaN   \n",
       "151522  The best way to get around the city is by metr...          NaN   \n",
       "151523                                                NaN          NaN   \n",
       "151532  We are just 20 seconds walk from the Pet-worth...      $270.00   \n",
       "\n",
       "       zipcode  {randomControl}    new  \n",
       "20       20007           107687  107.0  \n",
       "33       20009           107189  107.0  \n",
       "70       20009           107774  107.0  \n",
       "75       20003           107078  107.0  \n",
       "146      20011           107820  107.0  \n",
       "...        ...              ...    ...  \n",
       "151459   20001           107081  107.0  \n",
       "151501   20002           107481  107.0  \n",
       "151522   20010           107479  107.0  \n",
       "151523   20007           107263  107.0  \n",
       "151532   20010           107996  107.0  \n",
       "\n",
       "[5492 rows x 67 columns]"
      ]
     },
     "execution_count": 6,
     "metadata": {},
     "output_type": "execute_result"
    }
   ],
   "source": [
    "train['new']=train['{randomControl}']/1000\n",
    "train['new']=np.floor(train['new'])\n",
    "trainNew=train[train['new']==107]\n",
    "trainNew"
   ]
  },
  {
   "cell_type": "code",
   "execution_count": 7,
   "metadata": {},
   "outputs": [],
   "source": [
    "col_in_train=[\"id\", \"amenities\",\"bathrooms\", \"bedrooms\", \"accommodates\", \"cancellation_policy\", \"cleaning_fee\", \"extra_people\", \"host_is_superhost\",\"host_listings_count\", \"price\", \"review_scores_rating\", \"high_booking_rate\", \"host_response_rate\",\"host_response_time\", \"minimum_nights\", \"security_deposit\", \"property_type\", \"latitude\",\"longitude\"]\n",
    "dc_data = trainNew[col_in_train]"
   ]
  },
  {
   "cell_type": "code",
   "execution_count": 8,
   "metadata": {},
   "outputs": [],
   "source": [
    "dc_data['amenities'] = dc_data['amenities'].str.lower()"
   ]
  },
  {
   "cell_type": "code",
   "execution_count": 9,
   "metadata": {},
   "outputs": [
    {
     "name": "stdout",
     "output_type": "stream",
     "text": [
      "                                             amenities  parking\n",
      "20   {wifi,\"air conditioning\",kitchen,\"free street ...     True\n",
      "33   {tv,internet,wifi,\"air conditioning\",\"wheelcha...    False\n",
      "70   {wifi,\"air conditioning\",kitchen,breakfast,\"in...    False\n",
      "75   {wifi,\"air conditioning\",kitchen,breakfast,hea...    False\n",
      "146  {wifi,\"air conditioning\",kitchen,\"free parking...     True\n",
      "160  {tv,wifi,\"air conditioning\",kitchen,heating,wa...    False\n",
      "189  {tv,\"cable tv\",wifi,\"air conditioning\",kitchen...     True\n",
      "197  {tv,wifi,\"air conditioning\",kitchen,\"free stre...     True\n",
      "209  {tv,internet,wifi,\"air conditioning\",kitchen,h...    False\n",
      "215  {wifi,\"air conditioning\",heating,essentials,\"h...    False\n"
     ]
    }
   ],
   "source": [
    "dc_data['parking']=dc_data['amenities'].str.contains(pat = 'parking') \n",
    "print(dc_data[['amenities','parking']].head(10))"
   ]
  },
  {
   "cell_type": "code",
   "execution_count": 10,
   "metadata": {},
   "outputs": [
    {
     "name": "stdout",
     "output_type": "stream",
     "text": [
      "20    {wifi,\"air conditioning\",kitchen,\"free street ...\n",
      "Name: amenities, dtype: object\n"
     ]
    }
   ],
   "source": [
    "#pd.set_option(\"display.max_rows\", 10, \"display.max_columns\", 10)\n",
    "print(dc_data.amenities[dc_data['id']==1181920])"
   ]
  },
  {
   "cell_type": "code",
   "execution_count": 11,
   "metadata": {},
   "outputs": [
    {
     "data": {
      "text/plain": [
       "array(['flexible', 'moderate', 'strict_14_with_grace_period', 'strict',\n",
       "       'super_strict_30', 'super_strict_60'], dtype=object)"
      ]
     },
     "execution_count": 11,
     "metadata": {},
     "output_type": "execute_result"
    }
   ],
   "source": [
    "dc_data['cancellation_policy'].unique()"
   ]
  },
  {
   "cell_type": "code",
   "execution_count": 12,
   "metadata": {},
   "outputs": [
    {
     "data": {
      "text/plain": [
       "moderate                       34.632192\n",
       "flexible                       32.301529\n",
       "strict_14_with_grace_period    31.300073\n",
       "strict                          1.584122\n",
       "super_strict_60                 0.145666\n",
       "super_strict_30                 0.036417\n",
       "Name: cancellation_policy, dtype: float64"
      ]
     },
     "execution_count": 12,
     "metadata": {},
     "output_type": "execute_result"
    }
   ],
   "source": [
    "#recode_policies=(dc_data.groupby('cancellation_policy').size()/dc_data['cancellation_policy'].count())*100\n",
    "#recode_policies=(recode_policies<10)\n",
    "recode_policies= (dc_data['cancellation_policy'].value_counts()/dc_data['cancellation_policy'].count())*100\n",
    "recode_policies"
   ]
  },
  {
   "cell_type": "code",
   "execution_count": 13,
   "metadata": {},
   "outputs": [
    {
     "data": {
      "text/html": [
       "<div>\n",
       "<style scoped>\n",
       "    .dataframe tbody tr th:only-of-type {\n",
       "        vertical-align: middle;\n",
       "    }\n",
       "\n",
       "    .dataframe tbody tr th {\n",
       "        vertical-align: top;\n",
       "    }\n",
       "\n",
       "    .dataframe thead th {\n",
       "        text-align: right;\n",
       "    }\n",
       "</style>\n",
       "<table border=\"1\" class=\"dataframe\">\n",
       "  <thead>\n",
       "    <tr style=\"text-align: right;\">\n",
       "      <th></th>\n",
       "      <th>count</th>\n",
       "    </tr>\n",
       "  </thead>\n",
       "  <tbody>\n",
       "    <tr>\n",
       "      <th>moderate</th>\n",
       "      <td>34.632192</td>\n",
       "    </tr>\n",
       "    <tr>\n",
       "      <th>flexible</th>\n",
       "      <td>32.301529</td>\n",
       "    </tr>\n",
       "    <tr>\n",
       "      <th>strict_14_with_grace_period</th>\n",
       "      <td>31.300073</td>\n",
       "    </tr>\n",
       "    <tr>\n",
       "      <th>strict</th>\n",
       "      <td>1.584122</td>\n",
       "    </tr>\n",
       "    <tr>\n",
       "      <th>super_strict_60</th>\n",
       "      <td>0.145666</td>\n",
       "    </tr>\n",
       "    <tr>\n",
       "      <th>super_strict_30</th>\n",
       "      <td>0.036417</td>\n",
       "    </tr>\n",
       "  </tbody>\n",
       "</table>\n",
       "</div>"
      ],
      "text/plain": [
       "                                 count\n",
       "moderate                     34.632192\n",
       "flexible                     32.301529\n",
       "strict_14_with_grace_period  31.300073\n",
       "strict                        1.584122\n",
       "super_strict_60               0.145666\n",
       "super_strict_30               0.036417"
      ]
     },
     "execution_count": 13,
     "metadata": {},
     "output_type": "execute_result"
    }
   ],
   "source": [
    "recode_policies=recode_policies.to_frame(name = 'count')\n",
    "recode_policies"
   ]
  },
  {
   "cell_type": "code",
   "execution_count": 14,
   "metadata": {},
   "outputs": [
    {
     "data": {
      "text/html": [
       "<div>\n",
       "<style scoped>\n",
       "    .dataframe tbody tr th:only-of-type {\n",
       "        vertical-align: middle;\n",
       "    }\n",
       "\n",
       "    .dataframe tbody tr th {\n",
       "        vertical-align: top;\n",
       "    }\n",
       "\n",
       "    .dataframe thead th {\n",
       "        text-align: right;\n",
       "    }\n",
       "</style>\n",
       "<table border=\"1\" class=\"dataframe\">\n",
       "  <thead>\n",
       "    <tr style=\"text-align: right;\">\n",
       "      <th></th>\n",
       "      <th>count</th>\n",
       "    </tr>\n",
       "  </thead>\n",
       "  <tbody>\n",
       "    <tr>\n",
       "      <th>strict</th>\n",
       "      <td>1.584122</td>\n",
       "    </tr>\n",
       "    <tr>\n",
       "      <th>super_strict_60</th>\n",
       "      <td>0.145666</td>\n",
       "    </tr>\n",
       "    <tr>\n",
       "      <th>super_strict_30</th>\n",
       "      <td>0.036417</td>\n",
       "    </tr>\n",
       "  </tbody>\n",
       "</table>\n",
       "</div>"
      ],
      "text/plain": [
       "                    count\n",
       "strict           1.584122\n",
       "super_strict_60  0.145666\n",
       "super_strict_30  0.036417"
      ]
     },
     "execution_count": 14,
     "metadata": {},
     "output_type": "execute_result"
    }
   ],
   "source": [
    "policies=recode_policies[recode_policies['count']<10]\n",
    "policies"
   ]
  },
  {
   "cell_type": "code",
   "execution_count": 15,
   "metadata": {},
   "outputs": [
    {
     "data": {
      "text/plain": [
       "['strict', 'super_strict_60', 'super_strict_30']"
      ]
     },
     "execution_count": 15,
     "metadata": {},
     "output_type": "execute_result"
    }
   ],
   "source": [
    "remove_policy=policies.index.tolist()\n",
    "remove_policy"
   ]
  },
  {
   "cell_type": "code",
   "execution_count": 16,
   "metadata": {},
   "outputs": [],
   "source": [
    "apartment=['Apartment', 'Aparthotel', 'Boutique hotel', 'Condominium', 'Hotel', 'Loft', 'Serviced apartment', 'Guest suite']\n",
    "house=['Bungalow', 'Villa', 'Castle', 'Cabin', 'Hut', 'Cottage', 'Barn', 'Tiny house', 'Bed and breakfast', 'Casa particular (Cuba)', 'Townhouse', 'Earth house', 'Chalet', 'Dome house', 'Guesthouse', 'House', 'In-law', 'Nature lodge', 'Resort', 'Vacation home']"
   ]
  },
  {
   "cell_type": "code",
   "execution_count": 17,
   "metadata": {},
   "outputs": [],
   "source": [
    "dc_data['high_booking_rate']=dc_data['high_booking_rate'].astype('category') # converting high_booking_rate to a factor variable"
   ]
  },
  {
   "cell_type": "code",
   "execution_count": 18,
   "metadata": {},
   "outputs": [
    {
     "data": {
      "text/plain": [
       "20        17\n",
       "33        20\n",
       "70        17\n",
       "75        16\n",
       "146       11\n",
       "          ..\n",
       "151459    38\n",
       "151501    17\n",
       "151522    16\n",
       "151523    23\n",
       "151532    22\n",
       "Name: no_of_amenities, Length: 5492, dtype: int64"
      ]
     },
     "execution_count": 18,
     "metadata": {},
     "output_type": "execute_result"
    }
   ],
   "source": [
    "dc_data['no_of_amenities']=dc_data['amenities'].astype(str).str.split(',') #create new col containing the number of amenities\n",
    "dc_data['no_of_amenities']=dc_data['no_of_amenities'].str.len()\n",
    "dc_data['no_of_amenities']"
   ]
  },
  {
   "cell_type": "code",
   "execution_count": 19,
   "metadata": {},
   "outputs": [],
   "source": [
    "pd.set_option('display.max_rows', None)"
   ]
  },
  {
   "cell_type": "code",
   "execution_count": 20,
   "metadata": {},
   "outputs": [
    {
     "data": {
      "text/plain": [
       "array(['flexible', 'moderate', 'strict_14_with_grace_period', 'Other'],\n",
       "      dtype=object)"
      ]
     },
     "execution_count": 20,
     "metadata": {},
     "output_type": "execute_result"
    }
   ],
   "source": [
    "dc_data['cancellation_policy']=[ \"Other\" if row in remove_policy else row for row in dc_data['cancellation_policy'] ]\n",
    "dc_data['cancellation_policy'].unique()"
   ]
  },
  {
   "cell_type": "code",
   "execution_count": 21,
   "metadata": {},
   "outputs": [],
   "source": [
    "dc_data['cancellation_policy']=dc_data['cancellation_policy'].astype('category')"
   ]
  },
  {
   "cell_type": "code",
   "execution_count": 22,
   "metadata": {},
   "outputs": [
    {
     "data": {
      "text/plain": [
       "array(['apartment', 'house', 'other'], dtype=object)"
      ]
     },
     "execution_count": 22,
     "metadata": {},
     "output_type": "execute_result"
    }
   ],
   "source": [
    "dc_data['property_type']=[ \"apartment\" if row in apartment else \"house\"  if row in house else \"other\" for row in dc_data['property_type'] ]\n",
    "dc_data['property_type'].unique()"
   ]
  },
  {
   "cell_type": "code",
   "execution_count": 23,
   "metadata": {},
   "outputs": [],
   "source": [
    "dc_data['property_type']=dc_data['property_type'].astype('category')"
   ]
  },
  {
   "cell_type": "code",
   "execution_count": 24,
   "metadata": {},
   "outputs": [],
   "source": [
    "dc_data['cleaning_fee']=dc_data['cleaning_fee'].str.replace(\"$\",\"\")\n",
    "dc_data['cleaning_fee']=pd.to_numeric(dc_data['cleaning_fee'])"
   ]
  },
  {
   "cell_type": "code",
   "execution_count": 25,
   "metadata": {},
   "outputs": [
    {
     "data": {
      "text/plain": [
       "dtype('float64')"
      ]
     },
     "execution_count": 25,
     "metadata": {},
     "output_type": "execute_result"
    }
   ],
   "source": [
    "dc_data['cleaning_fee'].dtypes"
   ]
  },
  {
   "cell_type": "code",
   "execution_count": 26,
   "metadata": {},
   "outputs": [],
   "source": [
    "dc_data['cleaning_fee']=dc_data['cleaning_fee'].fillna(0)"
   ]
  },
  {
   "cell_type": "code",
   "execution_count": 27,
   "metadata": {},
   "outputs": [],
   "source": [
    "dc_data['extra_people']=dc_data['extra_people'].str.replace(\"$\",\"\")\n",
    "dc_data['extra_people']=pd.to_numeric(dc_data['extra_people'])"
   ]
  },
  {
   "cell_type": "code",
   "execution_count": 28,
   "metadata": {},
   "outputs": [],
   "source": [
    "dc_data['price']=dc_data['price'].str.replace('\\\\$|,',\"\")\n",
    "\n",
    "dc_data['price']=pd.to_numeric(dc_data['price'])"
   ]
  },
  {
   "cell_type": "code",
   "execution_count": 29,
   "metadata": {},
   "outputs": [],
   "source": [
    "dc_data['derived_review']=[ \"Good\" if row>=90 else \"Okay\"  if (row>0 and row<90) else \"Poor\" for row in dc_data['review_scores_rating'] ]"
   ]
  },
  {
   "cell_type": "code",
   "execution_count": 30,
   "metadata": {},
   "outputs": [],
   "source": [
    "dc_data['derived_review'].fillna(\"Poor\", inplace=True)"
   ]
  },
  {
   "cell_type": "code",
   "execution_count": 31,
   "metadata": {},
   "outputs": [],
   "source": [
    "dc_data['derived_review']=dc_data['derived_review'].astype('category')"
   ]
  },
  {
   "cell_type": "code",
   "execution_count": 32,
   "metadata": {},
   "outputs": [],
   "source": [
    "dc_data['host_response_rate']=dc_data['host_response_rate'].str.replace('\\\\%|,',\"\")\n",
    "dc_data['host_response_rate']=pd.to_numeric(dc_data['host_response_rate'])\n",
    "dc_data['host_response_rate']=[\"Good\" if row>90 else \"Bad\" for row in dc_data['host_response_rate']]\n",
    "dc_data['host_response_rate'].fillna(\"Bad\", inplace=True)\n",
    "dc_data['host_response_rate']=dc_data['host_response_rate'].astype('category')"
   ]
  },
  {
   "cell_type": "code",
   "execution_count": 33,
   "metadata": {},
   "outputs": [],
   "source": [
    "response_times=[\"within an hour\", \"within a few hours\",\"within a day\"]\n",
    "dc_data['host_response_time']=[ \"Good\" if row in response_times else \"Bad\" for row in dc_data['host_response_time'] ]\n",
    "dc_data['host_response_time']=dc_data['host_response_time'].astype('category')"
   ]
  },
  {
   "cell_type": "code",
   "execution_count": 34,
   "metadata": {},
   "outputs": [],
   "source": [
    "dc_data['minimum_nights']=[ \"Good\" if row <=2 else \"Bad\" for row in dc_data['minimum_nights'] ]\n",
    "dc_data['minimum_nights']=dc_data['minimum_nights'].astype('category')"
   ]
  },
  {
   "cell_type": "code",
   "execution_count": 35,
   "metadata": {},
   "outputs": [],
   "source": [
    "dc_data['security_deposit']=dc_data['security_deposit'].str.replace('\\\\$|,',\"\")\n",
    "dc_data['security_deposit']=pd.to_numeric(dc_data['security_deposit'])\n",
    "dc_data['security_deposit'].fillna(0, inplace=True)"
   ]
  },
  {
   "cell_type": "code",
   "execution_count": 36,
   "metadata": {},
   "outputs": [],
   "source": [
    "dc_data['host_is_superhost'].fillna(False, inplace=True)"
   ]
  },
  {
   "cell_type": "code",
   "execution_count": 37,
   "metadata": {},
   "outputs": [],
   "source": [
    "dc_data['bedrooms'].fillna(np.mean(dc_data['bedrooms']), inplace=True)\n",
    "dc_data['bathrooms'].fillna(np.mean(dc_data['bathrooms']), inplace=True)\n",
    "dc_data['host_listings_count'].fillna(np.mean(dc_data['host_listings_count']), inplace=True)"
   ]
  },
  {
   "cell_type": "code",
   "execution_count": 38,
   "metadata": {},
   "outputs": [],
   "source": [
    "dc_data.drop(columns=[\"amenities\",\"review_scores_rating\"], inplace=True)"
   ]
  },
  {
   "cell_type": "code",
   "execution_count": 39,
   "metadata": {},
   "outputs": [
    {
     "data": {
      "text/html": [
       "<div>\n",
       "<style scoped>\n",
       "    .dataframe tbody tr th:only-of-type {\n",
       "        vertical-align: middle;\n",
       "    }\n",
       "\n",
       "    .dataframe tbody tr th {\n",
       "        vertical-align: top;\n",
       "    }\n",
       "\n",
       "    .dataframe thead th {\n",
       "        text-align: right;\n",
       "    }\n",
       "</style>\n",
       "<table border=\"1\" class=\"dataframe\">\n",
       "  <thead>\n",
       "    <tr style=\"text-align: right;\">\n",
       "      <th></th>\n",
       "      <th>id</th>\n",
       "      <th>bathrooms</th>\n",
       "      <th>bedrooms</th>\n",
       "      <th>accommodates</th>\n",
       "      <th>cleaning_fee</th>\n",
       "      <th>extra_people</th>\n",
       "      <th>host_listings_count</th>\n",
       "      <th>price</th>\n",
       "      <th>security_deposit</th>\n",
       "      <th>latitude</th>\n",
       "      <th>longitude</th>\n",
       "      <th>no_of_amenities</th>\n",
       "    </tr>\n",
       "  </thead>\n",
       "  <tbody>\n",
       "    <tr>\n",
       "      <th>count</th>\n",
       "      <td>5.492000e+03</td>\n",
       "      <td>5492.000000</td>\n",
       "      <td>5492.000000</td>\n",
       "      <td>5492.000000</td>\n",
       "      <td>5492.000000</td>\n",
       "      <td>5492.000000</td>\n",
       "      <td>5492.000000</td>\n",
       "      <td>5492.000000</td>\n",
       "      <td>5492.000000</td>\n",
       "      <td>5492.000000</td>\n",
       "      <td>5492.000000</td>\n",
       "      <td>5492.000000</td>\n",
       "    </tr>\n",
       "    <tr>\n",
       "      <th>mean</th>\n",
       "      <td>1.101784e+06</td>\n",
       "      <td>1.345915</td>\n",
       "      <td>1.377871</td>\n",
       "      <td>3.663146</td>\n",
       "      <td>61.877640</td>\n",
       "      <td>13.195193</td>\n",
       "      <td>69.942238</td>\n",
       "      <td>194.891296</td>\n",
       "      <td>149.174982</td>\n",
       "      <td>38.912305</td>\n",
       "      <td>-77.017608</td>\n",
       "      <td>26.996723</td>\n",
       "    </tr>\n",
       "    <tr>\n",
       "      <th>std</th>\n",
       "      <td>5.778349e+04</td>\n",
       "      <td>0.677217</td>\n",
       "      <td>0.968421</td>\n",
       "      <td>2.340945</td>\n",
       "      <td>67.150369</td>\n",
       "      <td>25.124156</td>\n",
       "      <td>309.406416</td>\n",
       "      <td>327.478787</td>\n",
       "      <td>329.659601</td>\n",
       "      <td>0.023358</td>\n",
       "      <td>0.028980</td>\n",
       "      <td>10.734914</td>\n",
       "    </tr>\n",
       "    <tr>\n",
       "      <th>min</th>\n",
       "      <td>1.000159e+06</td>\n",
       "      <td>0.000000</td>\n",
       "      <td>0.000000</td>\n",
       "      <td>1.000000</td>\n",
       "      <td>0.000000</td>\n",
       "      <td>0.000000</td>\n",
       "      <td>0.000000</td>\n",
       "      <td>10.000000</td>\n",
       "      <td>0.000000</td>\n",
       "      <td>38.820370</td>\n",
       "      <td>-77.112090</td>\n",
       "      <td>1.000000</td>\n",
       "    </tr>\n",
       "    <tr>\n",
       "      <th>25%</th>\n",
       "      <td>1.051357e+06</td>\n",
       "      <td>1.000000</td>\n",
       "      <td>1.000000</td>\n",
       "      <td>2.000000</td>\n",
       "      <td>10.000000</td>\n",
       "      <td>0.000000</td>\n",
       "      <td>1.000000</td>\n",
       "      <td>79.000000</td>\n",
       "      <td>0.000000</td>\n",
       "      <td>38.899750</td>\n",
       "      <td>-77.036590</td>\n",
       "      <td>19.000000</td>\n",
       "    </tr>\n",
       "    <tr>\n",
       "      <th>50%</th>\n",
       "      <td>1.101751e+06</td>\n",
       "      <td>1.000000</td>\n",
       "      <td>1.000000</td>\n",
       "      <td>3.000000</td>\n",
       "      <td>50.000000</td>\n",
       "      <td>0.000000</td>\n",
       "      <td>1.000000</td>\n",
       "      <td>115.000000</td>\n",
       "      <td>0.000000</td>\n",
       "      <td>38.911490</td>\n",
       "      <td>-77.019910</td>\n",
       "      <td>26.000000</td>\n",
       "    </tr>\n",
       "    <tr>\n",
       "      <th>75%</th>\n",
       "      <td>1.152605e+06</td>\n",
       "      <td>1.500000</td>\n",
       "      <td>2.000000</td>\n",
       "      <td>4.000000</td>\n",
       "      <td>90.000000</td>\n",
       "      <td>20.000000</td>\n",
       "      <td>4.000000</td>\n",
       "      <td>185.000000</td>\n",
       "      <td>200.000000</td>\n",
       "      <td>38.925362</td>\n",
       "      <td>-76.997020</td>\n",
       "      <td>34.000000</td>\n",
       "    </tr>\n",
       "    <tr>\n",
       "      <th>max</th>\n",
       "      <td>1.202092e+06</td>\n",
       "      <td>10.000000</td>\n",
       "      <td>9.000000</td>\n",
       "      <td>16.000000</td>\n",
       "      <td>605.000000</td>\n",
       "      <td>300.000000</td>\n",
       "      <td>1820.000000</td>\n",
       "      <td>10000.000000</td>\n",
       "      <td>5000.000000</td>\n",
       "      <td>38.999790</td>\n",
       "      <td>-76.910110</td>\n",
       "      <td>79.000000</td>\n",
       "    </tr>\n",
       "  </tbody>\n",
       "</table>\n",
       "</div>"
      ],
      "text/plain": [
       "                 id    bathrooms     bedrooms  accommodates  cleaning_fee  \\\n",
       "count  5.492000e+03  5492.000000  5492.000000   5492.000000   5492.000000   \n",
       "mean   1.101784e+06     1.345915     1.377871      3.663146     61.877640   \n",
       "std    5.778349e+04     0.677217     0.968421      2.340945     67.150369   \n",
       "min    1.000159e+06     0.000000     0.000000      1.000000      0.000000   \n",
       "25%    1.051357e+06     1.000000     1.000000      2.000000     10.000000   \n",
       "50%    1.101751e+06     1.000000     1.000000      3.000000     50.000000   \n",
       "75%    1.152605e+06     1.500000     2.000000      4.000000     90.000000   \n",
       "max    1.202092e+06    10.000000     9.000000     16.000000    605.000000   \n",
       "\n",
       "       extra_people  host_listings_count         price  security_deposit  \\\n",
       "count   5492.000000          5492.000000   5492.000000       5492.000000   \n",
       "mean      13.195193            69.942238    194.891296        149.174982   \n",
       "std       25.124156           309.406416    327.478787        329.659601   \n",
       "min        0.000000             0.000000     10.000000          0.000000   \n",
       "25%        0.000000             1.000000     79.000000          0.000000   \n",
       "50%        0.000000             1.000000    115.000000          0.000000   \n",
       "75%       20.000000             4.000000    185.000000        200.000000   \n",
       "max      300.000000          1820.000000  10000.000000       5000.000000   \n",
       "\n",
       "          latitude    longitude  no_of_amenities  \n",
       "count  5492.000000  5492.000000      5492.000000  \n",
       "mean     38.912305   -77.017608        26.996723  \n",
       "std       0.023358     0.028980        10.734914  \n",
       "min      38.820370   -77.112090         1.000000  \n",
       "25%      38.899750   -77.036590        19.000000  \n",
       "50%      38.911490   -77.019910        26.000000  \n",
       "75%      38.925362   -76.997020        34.000000  \n",
       "max      38.999790   -76.910110        79.000000  "
      ]
     },
     "execution_count": 39,
     "metadata": {},
     "output_type": "execute_result"
    }
   ],
   "source": [
    "dc_data.describe()"
   ]
  },
  {
   "cell_type": "markdown",
   "metadata": {},
   "source": [
    "## Exploratory Analysis"
   ]
  },
  {
   "cell_type": "code",
   "execution_count": 40,
   "metadata": {},
   "outputs": [],
   "source": [
    "from plotnine.data import economics\n",
    "from plotnine import ggplot, aes, geom_line\n",
    "import matplotlib.pyplot as plt"
   ]
  },
  {
   "cell_type": "code",
   "execution_count": 41,
   "metadata": {},
   "outputs": [
    {
     "data": {
      "text/plain": [
       "CategoricalDtype(categories=[0, 1], ordered=False)"
      ]
     },
     "execution_count": 41,
     "metadata": {},
     "output_type": "execute_result"
    }
   ],
   "source": [
    "dc_data['high_booking_rate'].dtypes"
   ]
  },
  {
   "cell_type": "code",
   "execution_count": 42,
   "metadata": {},
   "outputs": [
    {
     "data": {
      "image/png": "[encoded data removed]",
      "text/plain": [
       "<Figure size 432x288 with 1 Axes>"
      ]
     },
     "metadata": {
      "needs_background": "light"
     },
     "output_type": "display_data"
    }
   ],
   "source": [
    "import seaborn as sns\n",
    "lowprice=dc_data[dc_data['price']<=1000]\n",
    "fig=sns.boxplot(x='high_booking_rate',y='price',data=lowprice, palette=\"Set3\")\n",
    "fig.set(xlabel='High Booking Rate', ylabel='Price', title='Rental Price Distribution')\n",
    "plt.show(fig)"
   ]
  },
  {
   "cell_type": "code",
   "execution_count": 43,
   "metadata": {},
   "outputs": [
    {
     "data": {
      "image/png": "[encoded data removed]",
      "text/plain": [
       "<Figure size 432x288 with 1 Axes>"
      ]
     },
     "metadata": {
      "needs_background": "light"
     },
     "output_type": "display_data"
    }
   ],
   "source": [
    "fig2 = sns.boxplot(y='no_of_amenities', x='high_booking_rate', data=dc_data)\n",
    "fig2.set(xlabel='High Booking Rate', ylabel='No of Amenitites', title='Amenitites Distribution')\n",
    "plt.show(fig2)"
   ]
  },
  {
   "cell_type": "code",
   "execution_count": 44,
   "metadata": {},
   "outputs": [
    {
     "data": {
      "image/png": "[encoded data removed]",
      "text/plain": [
       "<Figure size 432x288 with 1 Axes>"
      ]
     },
     "metadata": {
      "needs_background": "light"
     },
     "output_type": "display_data"
    }
   ],
   "source": [
    "fig3 = sns.countplot(x='derived_review', data=dc_data, hue='high_booking_rate')\n",
    "fig3.set(xlabel='Customer Reviews', ylabel='Count of Airbnb', title='Count of Airbnb Rental with Customer Review')\n",
    "plt.legend(bbox_to_anchor=(1, 1), loc=2) \n",
    "plt.show(fig3)"
   ]
  },
  {
   "cell_type": "code",
   "execution_count": 45,
   "metadata": {},
   "outputs": [
    {
     "data": {
      "image/png": "[encoded data removed]",
      "text/plain": [
       "<Figure size 432x288 with 1 Axes>"
      ]
     },
     "metadata": {
      "needs_background": "light"
     },
     "output_type": "display_data"
    }
   ],
   "source": [
    "fig4 = sns.countplot(x='parking', data=dc_data, hue='high_booking_rate')\n",
    "fig4.set(xlabel='Parking', ylabel='Count of Airbnb', title='Count of Airbnb Rental with Parking Availability')\n",
    "#fig4.legend(loc='center left', bbox_to_anchor=(1.25, 0.5), ncol=1)\n",
    "plt.legend(bbox_to_anchor=(1, 1), loc=2) \n",
    "plt.show(fig4)"
   ]
  },
  {
   "cell_type": "markdown",
   "metadata": {},
   "source": [
    "# Data Modelling"
   ]
  },
  {
   "cell_type": "markdown",
   "metadata": {},
   "source": [
    "## Logistic Regression"
   ]
  },
  {
   "cell_type": "code",
   "execution_count": 46,
   "metadata": {},
   "outputs": [
    {
     "data": {
      "text/plain": [
       "Index(['id', 'bathrooms', 'bedrooms', 'accommodates', 'cancellation_policy',\n",
       "       'cleaning_fee', 'extra_people', 'host_is_superhost',\n",
       "       'host_listings_count', 'price', 'high_booking_rate',\n",
       "       'host_response_rate', 'host_response_time', 'minimum_nights',\n",
       "       'security_deposit', 'property_type', 'latitude', 'longitude', 'parking',\n",
       "       'no_of_amenities', 'derived_review'],\n",
       "      dtype='object')"
      ]
     },
     "execution_count": 46,
     "metadata": {},
     "output_type": "execute_result"
    }
   ],
   "source": [
    "dc_data.columns"
   ]
  },
  {
   "cell_type": "code",
   "execution_count": 47,
   "metadata": {},
   "outputs": [
    {
     "data": {
      "text/plain": [
       "id                        int64\n",
       "bathrooms               float64\n",
       "bedrooms                float64\n",
       "accommodates              int64\n",
       "cancellation_policy    category\n",
       "cleaning_fee            float64\n",
       "extra_people            float64\n",
       "host_is_superhost          bool\n",
       "host_listings_count     float64\n",
       "price                   float64\n",
       "high_booking_rate      category\n",
       "host_response_rate     category\n",
       "host_response_time     category\n",
       "minimum_nights         category\n",
       "security_deposit        float64\n",
       "property_type          category\n",
       "latitude                float64\n",
       "longitude               float64\n",
       "parking                    bool\n",
       "no_of_amenities           int64\n",
       "derived_review         category\n",
       "dtype: object"
      ]
     },
     "execution_count": 47,
     "metadata": {},
     "output_type": "execute_result"
    }
   ],
   "source": [
    "dc_data.dtypes"
   ]
  },
  {
   "cell_type": "code",
   "execution_count": 48,
   "metadata": {},
   "outputs": [],
   "source": [
    "catColumns=['cancellation_policy','high_booking_rate','host_response_rate','host_response_time','minimum_nights','property_type','derived_review']"
   ]
  },
  {
   "cell_type": "code",
   "execution_count": 49,
   "metadata": {},
   "outputs": [],
   "source": [
    "from sklearn import preprocessing\n",
    "le = preprocessing.LabelEncoder()\n",
    "\n",
    "for col in catColumns:\n",
    "    n = len(dc_data[col].unique())\n",
    "    if (n > 2):\n",
    "       X = pd.get_dummies(dc_data[col])\n",
    "       X = X.drop(X.columns[0], axis=1)\n",
    "       dc_data[X.columns] = X\n",
    "       dc_data.drop(col, axis=1, inplace=True)  # drop the original categorical variable (optional)\n",
    "    else:\n",
    "       le.fit(dc_data[col])\n",
    "       dc_data[col] = le.transform(dc_data[col])"
   ]
  },
  {
   "cell_type": "code",
   "execution_count": 50,
   "metadata": {},
   "outputs": [
    {
     "data": {
      "text/plain": [
       "Index(['id', 'bathrooms', 'bedrooms', 'accommodates', 'cleaning_fee',\n",
       "       'extra_people', 'host_is_superhost', 'host_listings_count', 'price',\n",
       "       'high_booking_rate', 'host_response_rate', 'host_response_time',\n",
       "       'minimum_nights', 'security_deposit', 'latitude', 'longitude',\n",
       "       'parking', 'no_of_amenities', 'flexible', 'moderate',\n",
       "       'strict_14_with_grace_period', 'house', 'other', 'Okay', 'Poor'],\n",
       "      dtype='object')"
      ]
     },
     "execution_count": 50,
     "metadata": {},
     "output_type": "execute_result"
    }
   ],
   "source": [
    "dc_data.columns #derived_review: okay, poor, property_type: house, other"
   ]
  },
  {
   "cell_type": "code",
   "execution_count": 51,
   "metadata": {},
   "outputs": [],
   "source": [
    "feature_cols=[ 'bathrooms', 'bedrooms', 'cleaning_fee',\n",
    "       'extra_people', 'host_is_superhost', 'host_listings_count', 'price','host_response_rate', 'host_response_time',\n",
    "       'minimum_nights', 'security_deposit', 'parking', 'no_of_amenities', 'flexible', 'moderate',\n",
    "       'strict_14_with_grace_period', 'house', 'other', 'Okay', 'Poor']\n",
    "X=dc_data[feature_cols]\n",
    "y=dc_data['high_booking_rate']\n"
   ]
  },
  {
   "cell_type": "code",
   "execution_count": 52,
   "metadata": {},
   "outputs": [],
   "source": [
    "from sklearn.model_selection import train_test_split\n",
    "X_train,X_test,y_train,y_test=train_test_split(X,y,test_size=0.20,random_state=333)"
   ]
  },
  {
   "cell_type": "code",
   "execution_count": 53,
   "metadata": {},
   "outputs": [],
   "source": [
    "# import the class\n",
    "from sklearn.linear_model import LogisticRegression\n",
    "\n",
    "# instantiate the model (using the default parameters)\n",
    "logreg = LogisticRegression()\n",
    "\n",
    "# fit the model with data\n",
    "logreg.fit(X_train,y_train)\n",
    "\n",
    "y_pred=logreg.predict(X_test)"
   ]
  },
  {
   "cell_type": "code",
   "execution_count": 54,
   "metadata": {},
   "outputs": [
    {
     "data": {
      "text/html": [
       "<div>\n",
       "<style scoped>\n",
       "    .dataframe tbody tr th:only-of-type {\n",
       "        vertical-align: middle;\n",
       "    }\n",
       "\n",
       "    .dataframe tbody tr th {\n",
       "        vertical-align: top;\n",
       "    }\n",
       "\n",
       "    .dataframe thead th {\n",
       "        text-align: right;\n",
       "    }\n",
       "</style>\n",
       "<table border=\"1\" class=\"dataframe\">\n",
       "  <thead>\n",
       "    <tr style=\"text-align: right;\">\n",
       "      <th></th>\n",
       "      <th>features</th>\n",
       "      <th>coef</th>\n",
       "    </tr>\n",
       "  </thead>\n",
       "  <tbody>\n",
       "    <tr>\n",
       "      <th>0</th>\n",
       "      <td>bathrooms</td>\n",
       "      <td>-0.396130</td>\n",
       "    </tr>\n",
       "    <tr>\n",
       "      <th>1</th>\n",
       "      <td>bedrooms</td>\n",
       "      <td>0.093964</td>\n",
       "    </tr>\n",
       "    <tr>\n",
       "      <th>2</th>\n",
       "      <td>cleaning_fee</td>\n",
       "      <td>-0.002457</td>\n",
       "    </tr>\n",
       "    <tr>\n",
       "      <th>3</th>\n",
       "      <td>extra_people</td>\n",
       "      <td>-0.001145</td>\n",
       "    </tr>\n",
       "    <tr>\n",
       "      <th>4</th>\n",
       "      <td>host_is_superhost</td>\n",
       "      <td>0.960930</td>\n",
       "    </tr>\n",
       "    <tr>\n",
       "      <th>5</th>\n",
       "      <td>host_listings_count</td>\n",
       "      <td>-0.005391</td>\n",
       "    </tr>\n",
       "    <tr>\n",
       "      <th>6</th>\n",
       "      <td>price</td>\n",
       "      <td>-0.000819</td>\n",
       "    </tr>\n",
       "    <tr>\n",
       "      <th>7</th>\n",
       "      <td>host_response_rate</td>\n",
       "      <td>0.046612</td>\n",
       "    </tr>\n",
       "    <tr>\n",
       "      <th>8</th>\n",
       "      <td>host_response_time</td>\n",
       "      <td>0.982542</td>\n",
       "    </tr>\n",
       "    <tr>\n",
       "      <th>9</th>\n",
       "      <td>minimum_nights</td>\n",
       "      <td>0.527909</td>\n",
       "    </tr>\n",
       "    <tr>\n",
       "      <th>10</th>\n",
       "      <td>security_deposit</td>\n",
       "      <td>-0.000517</td>\n",
       "    </tr>\n",
       "    <tr>\n",
       "      <th>11</th>\n",
       "      <td>parking</td>\n",
       "      <td>0.349208</td>\n",
       "    </tr>\n",
       "    <tr>\n",
       "      <th>12</th>\n",
       "      <td>no_of_amenities</td>\n",
       "      <td>0.055806</td>\n",
       "    </tr>\n",
       "    <tr>\n",
       "      <th>13</th>\n",
       "      <td>flexible</td>\n",
       "      <td>-1.148079</td>\n",
       "    </tr>\n",
       "    <tr>\n",
       "      <th>14</th>\n",
       "      <td>moderate</td>\n",
       "      <td>-0.507658</td>\n",
       "    </tr>\n",
       "    <tr>\n",
       "      <th>15</th>\n",
       "      <td>strict_14_with_grace_period</td>\n",
       "      <td>-0.579745</td>\n",
       "    </tr>\n",
       "    <tr>\n",
       "      <th>16</th>\n",
       "      <td>house</td>\n",
       "      <td>0.049608</td>\n",
       "    </tr>\n",
       "    <tr>\n",
       "      <th>17</th>\n",
       "      <td>other</td>\n",
       "      <td>0.082962</td>\n",
       "    </tr>\n",
       "    <tr>\n",
       "      <th>18</th>\n",
       "      <td>Okay</td>\n",
       "      <td>-0.324587</td>\n",
       "    </tr>\n",
       "    <tr>\n",
       "      <th>19</th>\n",
       "      <td>Poor</td>\n",
       "      <td>-3.791958</td>\n",
       "    </tr>\n",
       "  </tbody>\n",
       "</table>\n",
       "</div>"
      ],
      "text/plain": [
       "                       features      coef\n",
       "0                     bathrooms -0.396130\n",
       "1                      bedrooms  0.093964\n",
       "2                  cleaning_fee -0.002457\n",
       "3                  extra_people -0.001145\n",
       "4             host_is_superhost  0.960930\n",
       "5           host_listings_count -0.005391\n",
       "6                         price -0.000819\n",
       "7            host_response_rate  0.046612\n",
       "8            host_response_time  0.982542\n",
       "9                minimum_nights  0.527909\n",
       "10             security_deposit -0.000517\n",
       "11                      parking  0.349208\n",
       "12              no_of_amenities  0.055806\n",
       "13                     flexible -1.148079\n",
       "14                     moderate -0.507658\n",
       "15  strict_14_with_grace_period -0.579745\n",
       "16                        house  0.049608\n",
       "17                        other  0.082962\n",
       "18                         Okay -0.324587\n",
       "19                         Poor -3.791958"
      ]
     },
     "execution_count": 54,
     "metadata": {},
     "output_type": "execute_result"
    }
   ],
   "source": [
    "pd.DataFrame(zip(X_train.columns, np.transpose(logreg.coef_.tolist()[0])), columns=['features', 'coef'])"
   ]
  },
  {
   "cell_type": "code",
   "execution_count": 55,
   "metadata": {},
   "outputs": [
    {
     "data": {
      "text/plain": [
       "array([[610, 120],\n",
       "       [129, 240]], dtype=int64)"
      ]
     },
     "execution_count": 55,
     "metadata": {},
     "output_type": "execute_result"
    }
   ],
   "source": [
    "# import the metrics class\n",
    "from sklearn import metrics\n",
    "cnf_matrix = metrics.confusion_matrix(y_test, y_pred)\n",
    "cnf_matrix"
   ]
  },
  {
   "cell_type": "code",
   "execution_count": 56,
   "metadata": {},
   "outputs": [],
   "source": [
    "tn, fp, fn, tp = metrics.confusion_matrix(y_test, y_pred).ravel()\n",
    "specificity = tn / (tn+fp)"
   ]
  },
  {
   "cell_type": "code",
   "execution_count": 57,
   "metadata": {},
   "outputs": [
    {
     "name": "stdout",
     "output_type": "stream",
     "text": [
      "Accuracy: 0.7734303912647862\n",
      "Precision: 0.6666666666666666\n",
      "Recall: 0.6504065040650406\n",
      "Specificity:  0.8356164383561644\n"
     ]
    }
   ],
   "source": [
    "print(\"Accuracy:\",metrics.accuracy_score(y_test, y_pred))\n",
    "print(\"Precision:\",metrics.precision_score(y_test, y_pred))\n",
    "print(\"Recall:\",metrics.recall_score(y_test, y_pred))\n",
    "print(\"Specificity: \",specificity)"
   ]
  },
  {
   "cell_type": "code",
   "execution_count": 58,
   "metadata": {},
   "outputs": [
    {
     "data": {
      "text/plain": [
       "Text(0.5, 257.44, 'Predicted label')"
      ]
     },
     "execution_count": 58,
     "metadata": {},
     "output_type": "execute_result"
    },
    {
     "data": {
      "image/png": "[encoded data removed]",
      "text/plain": [
       "<Figure size 432x288 with 2 Axes>"
      ]
     },
     "metadata": {
      "needs_background": "light"
     },
     "output_type": "display_data"
    }
   ],
   "source": [
    "import matplotlib.pyplot as plt\n",
    "import seaborn as sns\n",
    "%matplotlib inline\n",
    "class_names=[0,1] # name  of classes\n",
    "fig, ax = plt.subplots()\n",
    "tick_marks = np.arange(len(class_names))\n",
    "plt.xticks(tick_marks, class_names)\n",
    "plt.yticks(tick_marks, class_names)\n",
    "# create heatmap\n",
    "sns.heatmap(pd.DataFrame(cnf_matrix), annot=True, cmap=\"YlGnBu\" ,fmt='g')\n",
    "ax.xaxis.set_label_position(\"top\")\n",
    "plt.tight_layout()\n",
    "plt.title('Confusion matrix', y=1.1)\n",
    "plt.ylabel('Actual label')\n",
    "plt.xlabel('Predicted label')"
   ]
  },
  {
   "cell_type": "code",
   "execution_count": 59,
   "metadata": {},
   "outputs": [
    {
     "data": {
      "image/png": "[encoded data removed]",
      "text/plain": [
       "<Figure size 432x288 with 1 Axes>"
      ]
     },
     "metadata": {
      "needs_background": "light"
     },
     "output_type": "display_data"
    }
   ],
   "source": [
    "y_pred_proba = logreg.predict_proba(X_test)[::,1]\n",
    "fpr, tpr, _ = metrics.roc_curve(y_test,  y_pred_proba)\n",
    "auc = metrics.roc_auc_score(y_test, y_pred_proba)\n",
    "plt.plot(fpr,tpr,label=\"data 1, auc=\"+str(auc))\n",
    "plt.legend(loc=4)\n",
    "plt.show()"
   ]
  },
  {
   "cell_type": "markdown",
   "metadata": {},
   "source": [
    "## XgBoost"
   ]
  },
  {
   "cell_type": "code",
   "execution_count": 60,
   "metadata": {},
   "outputs": [],
   "source": [
    "import xgboost as xgb\n",
    "from sklearn.metrics import mean_squared_error"
   ]
  },
  {
   "cell_type": "code",
   "execution_count": 61,
   "metadata": {},
   "outputs": [],
   "source": [
    "data_dmatrix = xgb.DMatrix(data=X,label=y)"
   ]
  },
  {
   "cell_type": "code",
   "execution_count": 62,
   "metadata": {},
   "outputs": [],
   "source": [
    "X_train, X_test, y_train, y_test = train_test_split(X, y, test_size=0.2, random_state=123)"
   ]
  },
  {
   "cell_type": "code",
   "execution_count": 63,
   "metadata": {},
   "outputs": [],
   "source": [
    "xg_reg = xgb.XGBRegressor(objective ='reg:logistic', colsample_bytree = 0.3, learning_rate = 0.1,\n",
    "                 alpha = 10)"
   ]
  },
  {
   "cell_type": "code",
   "execution_count": 64,
   "metadata": {},
   "outputs": [],
   "source": [
    "xg_reg.fit(X_train,y_train)\n",
    "\n",
    "preds = xg_reg.predict(X_test)"
   ]
  },
  {
   "cell_type": "code",
   "execution_count": 65,
   "metadata": {},
   "outputs": [
    {
     "name": "stdout",
     "output_type": "stream",
     "text": [
      "RMSE: 0.368598\n"
     ]
    }
   ],
   "source": [
    "rmse = np.sqrt(mean_squared_error(y_test, preds))\n",
    "print(\"RMSE: %f\" % (rmse))"
   ]
  },
  {
   "cell_type": "code",
   "execution_count": 66,
   "metadata": {},
   "outputs": [
    {
     "name": "stdout",
     "output_type": "stream",
     "text": [
      "The Confusion Matrix is: \n",
      "[[646  99]\n",
      " [122 232]]\n"
     ]
    }
   ],
   "source": [
    "# Making the Confusion Matrix\n",
    "cm = metrics.confusion_matrix(y_test, (preds>0.5))\n",
    "print('The Confusion Matrix is: ')\n",
    "print(cm)\n",
    "# Calculate the accuracy on test set\n",
    "# predict_accuracy_on_test_set = (cm[0,0] + cm[1,1])/(cm[0,0] + cm[1,1]+cm[1,0] + cm[0,1])\n",
    "# print('The Accuracy on Test Set is: ', predict_accuracy_on_test_set)"
   ]
  },
  {
   "cell_type": "code",
   "execution_count": 67,
   "metadata": {},
   "outputs": [
    {
     "name": "stdout",
     "output_type": "stream",
     "text": [
      "Accuracy: 0.7989080982711556\n",
      "Precision: 0.7009063444108762\n",
      "Recall: 0.655367231638418\n",
      "Specificity:  0.8671140939597315\n"
     ]
    }
   ],
   "source": [
    "tn, fp, fn, tp = metrics.confusion_matrix(y_test, (preds>0.5)).ravel()\n",
    "specificity = tn / (tn+fp)\n",
    "print(\"Accuracy:\",metrics.accuracy_score(y_test, (preds>0.5)))\n",
    "print(\"Precision:\",metrics.precision_score(y_test, (preds>0.5)))\n",
    "print(\"Recall:\",metrics.recall_score(y_test, (preds>0.5)))\n",
    "print(\"Specificity: \",specificity)"
   ]
  },
  {
   "cell_type": "code",
   "execution_count": 68,
   "metadata": {},
   "outputs": [],
   "source": [
    "params = {\"objective\":\"binary:logistic\",'colsample_bytree': 0.3,'learning_rate': 0.1,\n",
    "                'max_depth': 5, 'alpha': 10}\n",
    "\n",
    "cv_results = xgb.cv(dtrain=data_dmatrix, params=params, nfold=3,\n",
    "                    num_boost_round=50,early_stopping_rounds=10,metrics=\"rmse\", as_pandas=True, seed=123)"
   ]
  },
  {
   "cell_type": "code",
   "execution_count": 69,
   "metadata": {},
   "outputs": [
    {
     "data": {
      "text/html": [
       "<div>\n",
       "<style scoped>\n",
       "    .dataframe tbody tr th:only-of-type {\n",
       "        vertical-align: middle;\n",
       "    }\n",
       "\n",
       "    .dataframe tbody tr th {\n",
       "        vertical-align: top;\n",
       "    }\n",
       "\n",
       "    .dataframe thead th {\n",
       "        text-align: right;\n",
       "    }\n",
       "</style>\n",
       "<table border=\"1\" class=\"dataframe\">\n",
       "  <thead>\n",
       "    <tr style=\"text-align: right;\">\n",
       "      <th></th>\n",
       "      <th>train-rmse-mean</th>\n",
       "      <th>train-rmse-std</th>\n",
       "      <th>test-rmse-mean</th>\n",
       "      <th>test-rmse-std</th>\n",
       "    </tr>\n",
       "  </thead>\n",
       "  <tbody>\n",
       "    <tr>\n",
       "      <th>0</th>\n",
       "      <td>0.487286</td>\n",
       "      <td>0.000086</td>\n",
       "      <td>0.487601</td>\n",
       "      <td>0.000150</td>\n",
       "    </tr>\n",
       "    <tr>\n",
       "      <th>1</th>\n",
       "      <td>0.473455</td>\n",
       "      <td>0.001144</td>\n",
       "      <td>0.474043</td>\n",
       "      <td>0.000079</td>\n",
       "    </tr>\n",
       "    <tr>\n",
       "      <th>2</th>\n",
       "      <td>0.460947</td>\n",
       "      <td>0.001450</td>\n",
       "      <td>0.461853</td>\n",
       "      <td>0.000345</td>\n",
       "    </tr>\n",
       "    <tr>\n",
       "      <th>3</th>\n",
       "      <td>0.449841</td>\n",
       "      <td>0.002078</td>\n",
       "      <td>0.451079</td>\n",
       "      <td>0.000918</td>\n",
       "    </tr>\n",
       "    <tr>\n",
       "      <th>4</th>\n",
       "      <td>0.441842</td>\n",
       "      <td>0.003397</td>\n",
       "      <td>0.443432</td>\n",
       "      <td>0.002506</td>\n",
       "    </tr>\n",
       "  </tbody>\n",
       "</table>\n",
       "</div>"
      ],
      "text/plain": [
       "   train-rmse-mean  train-rmse-std  test-rmse-mean  test-rmse-std\n",
       "0         0.487286        0.000086        0.487601       0.000150\n",
       "1         0.473455        0.001144        0.474043       0.000079\n",
       "2         0.460947        0.001450        0.461853       0.000345\n",
       "3         0.449841        0.002078        0.451079       0.000918\n",
       "4         0.441842        0.003397        0.443432       0.002506"
      ]
     },
     "execution_count": 69,
     "metadata": {},
     "output_type": "execute_result"
    }
   ],
   "source": [
    "cv_results.head()"
   ]
  },
  {
   "cell_type": "code",
   "execution_count": 70,
   "metadata": {},
   "outputs": [
    {
     "name": "stdout",
     "output_type": "stream",
     "text": [
      "49    0.369253\n",
      "Name: test-rmse-mean, dtype: float64\n"
     ]
    }
   ],
   "source": [
    "print((cv_results[\"test-rmse-mean\"]).tail(1))"
   ]
  },
  {
   "cell_type": "code",
   "execution_count": 71,
   "metadata": {},
   "outputs": [
    {
     "name": "stdout",
     "output_type": "stream",
     "text": [
      "[15:29:28] WARNING: C:/Users/Administrator/workspace/xgboost-win64_release_1.3.0/src/learner.cc:1061: Starting in XGBoost 1.3.0, the default evaluation metric used with the objective 'binary:logistic' was changed from 'error' to 'logloss'. Explicitly set eval_metric if you'd like to restore the old behavior.\n"
     ]
    }
   ],
   "source": [
    "xg_reg = xgb.train(params=params, dtrain=data_dmatrix, num_boost_round=10)"
   ]
  },
  {
   "cell_type": "code",
   "execution_count": 72,
   "metadata": {},
   "outputs": [
    {
     "data": {
      "image/png": "[encoded data removed]",
      "text/plain": [
       "<Figure size 432x288 with 1 Axes>"
      ]
     },
     "metadata": {
      "needs_background": "light"
     },
     "output_type": "display_data"
    }
   ],
   "source": [
    "import matplotlib.pyplot as plt\n",
    "\n",
    "xgb.plot_tree(xg_reg,num_trees=0)\n",
    "plt.rcParams['figure.figsize'] = [1000, 1500]\n",
    "plt.text(17527,100,'Pre')\n",
    "plt.show()"
   ]
  },
  {
   "cell_type": "code",
   "execution_count": 74,
   "metadata": {},
   "outputs": [
    {
     "data": {
      "image/png": "[encoded data removed]",
      "text/plain": [
       "<Figure size 3600x3600 with 1 Axes>"
      ]
     },
     "metadata": {
      "needs_background": "light"
     },
     "output_type": "display_data"
    }
   ],
   "source": [
    "xgb.plot_importance(xg_reg)\n",
    "plt.rcParams['figure.figsize'] = [25, 25]\n",
    "plt.show()"
   ]
  },
  {
   "cell_type": "code",
   "execution_count": null,
   "metadata": {},
   "outputs": [],
   "source": []
  }
 ],
 "metadata": {
  "kernelspec": {
   "display_name": "Python 3",
   "language": "python",
   "name": "python3"
  },
  "language_info": {
   "codemirror_mode": {
    "name": "ipython",
    "version": 3
   },
   "file_extension": ".py",
   "mimetype": "text/x-python",
   "name": "python",
   "nbconvert_exporter": "python",
   "pygments_lexer": "ipython3",
   "version": "3.7.3"
  }
 },
 "nbformat": 4,
 "nbformat_minor": 2
}
